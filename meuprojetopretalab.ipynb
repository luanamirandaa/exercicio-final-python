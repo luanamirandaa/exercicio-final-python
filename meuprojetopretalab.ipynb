{
  "nbformat": 4,
  "nbformat_minor": 0,
  "metadata": {
    "colab": {
      "provenance": [],
      "authorship_tag": "ABX9TyM0AmtpJGKVvN0rk5lh3ica",
      "include_colab_link": true
    },
    "kernelspec": {
      "name": "python3",
      "display_name": "Python 3"
    },
    "language_info": {
      "name": "python"
    }
  },
  "cells": [
    {
      "cell_type": "markdown",
      "metadata": {
        "id": "view-in-github",
        "colab_type": "text"
      },
      "source": [
        "<a href=\"https://colab.research.google.com/github/luanamirandaa/exercicio-final-python/blob/main/meuprojetopretalab.ipynb\" target=\"_parent\"><img src=\"https://colab.research.google.com/assets/colab-badge.svg\" alt=\"Open In Colab\"/></a>"
      ]
    },
    {
      "cell_type": "code",
      "execution_count": null,
      "metadata": {
        "id": "q0BL15GMDaz5"
      },
      "outputs": [],
      "source": [
        "class Livro:\n",
        "  def __init__(self, titulo, autor):\n",
        "    self.titulo = titulo\n",
        "    self.autor = autor\n",
        "    self.disponivel = True\n",
        "\n",
        "  def emprestar(self):\n",
        "    if self.disponivel:\n",
        "      self.disponivel = False\n",
        "      print(f\"O livro{self.titulo} foi emprestado.\")\n",
        "    else:\n",
        "      print(f\"O livro{self.titulo} está disponível.\")\n",
        "\n",
        "  # Lista de livros\n",
        "  biblioteca = [\n",
        "      Livro(\"Dom Casmurro\", \"Machado de Assis\"),\n",
        "      Livro(\"1984\", \"George Orwell\"),\n",
        "      Livro(\"O Pequeno Príncipe\", \"Aquele lá que esqueci o nome\")\n",
        "  ]\n",
        "\n",
        "  # Números de páginas\n",
        "  paginas = np.array([539, 275, 91])\n",
        "\n",
        "  # Boolean masking: Livros com + de 100 páginas\n",
        "  print(\"Livros com mais de 100 páginas:\")\n",
        "  mascara = paginas > 100\n",
        "        for i in range(len(biblioteca)):\n",
        "          if mascara[i]\n",
        "          print(f\"{biblioteca[i].titulo}- {paginas[i]} páginas\")\n",
        "\n",
        "  # Ano de publicação\n",
        "  anos_publicacao = np.array([1899, 1949, 1943])\n",
        "\n",
        "  # média dos anos de publicação\n",
        "  def media_anos_publicacao(array_anos):\n",
        "    return np.mean(array_anos)\n"
      ]
    }
  ]
}